{
  "nbformat": 4,
  "nbformat_minor": 0,
  "metadata": {
    "colab": {
      "provenance": [],
      "authorship_tag": "ABX9TyP3UXqVnN48+oOkui0XzNXy",
      "include_colab_link": true
    },
    "kernelspec": {
      "name": "python3",
      "display_name": "Python 3"
    },
    "language_info": {
      "name": "python"
    }
  },
  "cells": [
    {
      "cell_type": "markdown",
      "metadata": {
        "id": "view-in-github",
        "colab_type": "text"
      },
      "source": [
        "<a href=\"https://colab.research.google.com/github/MOHAMMAD-ALI-ZAIDI/Credit-Card-Fraud-Detection/blob/main/Customer_Personality_Analysis.ipynb\" target=\"_parent\"><img src=\"https://colab.research.google.com/assets/colab-badge.svg\" alt=\"Open In Colab\"/></a>"
      ]
    },
    {
      "cell_type": "code",
      "source": [
        "import pandas as pd\n",
        "\n",
        "# Load dataset\n",
        "df = pd.read_csv(\"/content/marketing_campaign.csv\", sep=\"\\t\")\n",
        "\n",
        "# 1. Remove duplicate rows\n",
        "df = df.drop_duplicates()\n",
        "\n",
        "# 2. Handle missing values\n",
        "# Fill missing 'Income' with the median income\n",
        "df['Income'] = df['Income'].fillna(df['Income'].median())\n",
        "\n",
        "# 3. Standardize text fields\n",
        "df['Education'] = df['Education'].str.strip().str.title()\n",
        "df['Marital_Status'] = df['Marital_Status'].str.strip().str.title()\n",
        "\n",
        "# Fix known inconsistent values in 'Marital_Status'\n",
        "df['Marital_Status'] = df['Marital_Status'].replace({\n",
        "    'Alone': 'Single',\n",
        "    'Absurd': 'Single',\n",
        "    'Yolo': 'Single',\n",
        "    'Divorced': 'Divorced',\n",
        "    'Married': 'Married',\n",
        "    'Together': 'Together',\n",
        "    'Widow': 'Widow'\n",
        "})\n",
        "\n",
        "# 4. Convert 'Dt_Customer' to datetime\n",
        "# If any missing dates, fill with a default value\n",
        "df['Dt_Customer'] = df['Dt_Customer'].fillna(\"01-01-2014\")\n",
        "df['Dt_Customer'] = pd.to_datetime(df['Dt_Customer'], format='%d-%m-%Y', errors='coerce')\n",
        "\n",
        "# Replace any parsing errors with the default date\n",
        "df['Dt_Customer'] = df['Dt_Customer'].fillna(pd.to_datetime(\"2014-01-01\"))\n",
        "\n",
        "# 5. Rename columns\n",
        "df.columns = (\n",
        "    df.columns\n",
        "    .str.strip()\n",
        "    .str.lower()\n",
        "    .str.replace(\" \", \"_\")\n",
        "    .str.replace(\"-\", \"_\")\n",
        ")\n",
        "\n",
        "# 6. Fix data types (if necessary)\n",
        "df = df.astype({\n",
        "    'income': float,\n",
        "    'year_birth': int,\n",
        "    'kidhome': int,\n",
        "    'teenhome': int,\n",
        "    'recency': int,\n",
        "    'z_costcontact': int,\n",
        "    'z_revenue': int\n",
        "})\n",
        "\n",
        "# 7. Save cleaned data\n",
        "df.to_csv(\"marketing_campaign_cleaned.csv\", index=False)\n",
        "\n",
        "# 8. Summary\n",
        "print(\"✅ Cleaning complete!\")\n",
        "print(\"Rows:\", df.shape[0])\n",
        "print(\"Columns:\", df.shape[1])\n",
        "print(\"\\n📋 Sample cleaned data:\\n\", df.head())\n"
      ],
      "metadata": {
        "colab": {
          "base_uri": "https://localhost:8080/"
        },
        "id": "kkKgDwlS7osd",
        "outputId": "ac259a24-93d0-4793-81c5-a088765a49cf"
      },
      "execution_count": 18,
      "outputs": [
        {
          "output_type": "stream",
          "name": "stdout",
          "text": [
            "✅ Cleaning complete!\n",
            "Rows: 2240\n",
            "Columns: 29\n",
            "\n",
            "📋 Sample cleaned data:\n",
            "      id  year_birth   education marital_status   income  kidhome  teenhome  \\\n",
            "0  5524        1957  Graduation         Single  58138.0        0         0   \n",
            "1  2174        1954  Graduation         Single  46344.0        1         1   \n",
            "2  4141        1965  Graduation       Together  71613.0        0         0   \n",
            "3  6182        1984  Graduation       Together  26646.0        1         0   \n",
            "4  5324        1981         Phd        Married  58293.0        1         0   \n",
            "\n",
            "  dt_customer  recency  mntwines  ...  numwebvisitsmonth  acceptedcmp3  \\\n",
            "0  2012-09-04       58       635  ...                  7             0   \n",
            "1  2014-03-08       38        11  ...                  5             0   \n",
            "2  2013-08-21       26       426  ...                  4             0   \n",
            "3  2014-02-10       26        11  ...                  6             0   \n",
            "4  2014-01-19       94       173  ...                  5             0   \n",
            "\n",
            "   acceptedcmp4  acceptedcmp5  acceptedcmp1  acceptedcmp2  complain  \\\n",
            "0             0             0             0             0         0   \n",
            "1             0             0             0             0         0   \n",
            "2             0             0             0             0         0   \n",
            "3             0             0             0             0         0   \n",
            "4             0             0             0             0         0   \n",
            "\n",
            "   z_costcontact  z_revenue  response  \n",
            "0              3         11         1  \n",
            "1              3         11         0  \n",
            "2              3         11         0  \n",
            "3              3         11         0  \n",
            "4              3         11         0  \n",
            "\n",
            "[5 rows x 29 columns]\n"
          ]
        }
      ]
    }
  ]
}